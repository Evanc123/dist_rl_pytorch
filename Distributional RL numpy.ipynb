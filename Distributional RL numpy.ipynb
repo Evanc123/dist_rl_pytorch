{
 "cells": [
  {
   "cell_type": "markdown",
   "metadata": {},
   "source": [
    "This is code to better understand the projected distributional bellman update in numpy."
   ]
  },
  {
   "cell_type": "code",
   "execution_count": 164,
   "metadata": {},
   "outputs": [],
   "source": [
    "import numpy as np\n",
    "import math\n",
    "\n",
    "def softmax(z):\n",
    "    assert len(z.shape) == 2\n",
    "    s = np.max(z, axis=1)\n",
    "    s = s[:, np.newaxis] # necessary step to do broadcasting\n",
    "    e_x = np.exp(z - s)\n",
    "    div = np.sum(e_x, axis=1)\n",
    "    div = div[:, np.newaxis] # dito\n",
    "    return e_x / div\n"
   ]
  },
  {
   "cell_type": "code",
   "execution_count": 165,
   "metadata": {},
   "outputs": [],
   "source": [
    "num_actions = 4\n",
    "\n",
    "# Min and Max \n",
    "v_max = 10\n",
    "v_min = -10\n",
    "\n",
    "# number of atoms, because we are including 0\n",
    "z = 21\n",
    "\n",
    "#Defined in section 4.1\n",
    "delta_z = float((v_max - v_min)) / (z - 1)\n",
    "\n",
    "# random action vector\n",
    "q_values_vector = softmax(np.random.rand(num_actions, z))\n",
    "\n",
    "q_values = np.zeros(num_actions)\n",
    "\n",
    "# Line 1 of Alg. 1\n",
    "for action_idx in range(num_actions):\n",
    "    z_idx = 0\n",
    "    z_stepper = v_min\n",
    "    while (z_idx != z):\n",
    "        q_values[action_idx] += q_values_vector[action_idx][z_idx] * z_stepper\n",
    "        z_stepper += delta_z\n",
    "        z_idx += 1\n",
    "        \n",
    "#Line 2 of Algorithm 1\n",
    "optimal_action = np.argmax(q_values)\n"
   ]
  },
  {
   "cell_type": "markdown",
   "metadata": {},
   "source": [
    "Compute the Projection"
   ]
  },
  {
   "cell_type": "code",
   "execution_count": 167,
   "metadata": {},
   "outputs": [
    {
     "name": "stdout",
     "output_type": "stream",
     "text": [
      "[ 0.01615983  0.03329078  0.03424343  0.06258222  0.05034519  0.0356659\n",
      "  0.03399998  0.0379598   0.03759498  0.03453206  0.0032346   0.03788008\n",
      "  0.07801378  0.07316943  0.04498811  0.05500165  0.07357977  0.07986593\n",
      "  0.0607817   0.04040215  0.02051784]\n",
      "[ 0.03231965  0.03114718  0.03371199  0.07553449  0.03415445  0.03389276\n",
      "  0.03190849  0.0371507   0.03558042  0.03260423  0.05619081  0.03208771\n",
      "  0.07396762  0.07628616  0.04163099  0.04673327  0.06650566  0.0772166\n",
      "  0.07418786  0.03615329  0.04103569]\n"
     ]
    }
   ],
   "source": [
    "\n",
    "#line 3 of Alg 1 (the init to zeros)\n",
    "projected_q_value_vector = np.zeros((z))\n",
    "\n",
    "# reward at time t\n",
    "r_t = 0.0\n",
    "\n",
    "# Discount factor\n",
    "gamma = .95\n",
    "\n",
    "z_idx = 0\n",
    "z_stepper = v_min\n",
    "# Line 4 of Alg 1 (the j loop to N)\n",
    "while (z_idx != z):\n",
    "    \n",
    "    #Line 5 of Algoirhtm 1 (Clipping)\n",
    "    projected_z = max(min(r_t + gamma * z_stepper, v_max), v_min)\n",
    "    \n",
    "    # Line 6 of algorithm 1\n",
    "    b = (projected_z - v_min) / delta_z\n",
    "    \n",
    "    # Line 7 of algoirthm 1\n",
    "    l = int(math.floor(b))\n",
    "    u = int(math.ceil(b))\n",
    "    \n",
    "    # Lines 8 and 9 of algorithm 1\n",
    "    transition_prob = q_values_vector[optimal_action][z_idx]\n",
    "    projected_q_value_vector[l] = projected_q_value_vector[l] + transition_prob * (u - b)\n",
    "    projected_q_value_vector[u] = projected_q_value_vector[u] + transition_prob * (b - l)\n",
    "    \n",
    "    z_stepper += delta_z\n",
    "    z_idx += 1\n",
    "\n",
    "    # doesn't equal one because of the min and the max. we are clipping \n",
    "print projected_q_value_vector\n",
    "print q_values_vector[optimal_action]\n"
   ]
  },
  {
   "cell_type": "code",
   "execution_count": null,
   "metadata": {},
   "outputs": [],
   "source": []
  },
  {
   "cell_type": "code",
   "execution_count": null,
   "metadata": {},
   "outputs": [],
   "source": []
  }
 ],
 "metadata": {
  "kernelspec": {
   "display_name": "Python 2",
   "language": "python",
   "name": "python2"
  },
  "language_info": {
   "codemirror_mode": {
    "name": "ipython",
    "version": 2
   },
   "file_extension": ".py",
   "mimetype": "text/x-python",
   "name": "python",
   "nbconvert_exporter": "python",
   "pygments_lexer": "ipython2",
   "version": "2.7.13"
  }
 },
 "nbformat": 4,
 "nbformat_minor": 2
}
